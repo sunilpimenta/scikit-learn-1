{
 "cells": [
  {
   "cell_type": "code",
   "execution_count": 1,
   "metadata": {},
   "outputs": [],
   "source": [
    "import pandas as pd\n",
    "import matplotlib.pyplot as plt"
   ]
  },
  {
   "cell_type": "code",
   "execution_count": 2,
   "metadata": {},
   "outputs": [
    {
     "data": {
      "text/html": [
       "<div>\n",
       "<style scoped>\n",
       "    .dataframe tbody tr th:only-of-type {\n",
       "        vertical-align: middle;\n",
       "    }\n",
       "\n",
       "    .dataframe tbody tr th {\n",
       "        vertical-align: top;\n",
       "    }\n",
       "\n",
       "    .dataframe thead th {\n",
       "        text-align: right;\n",
       "    }\n",
       "</style>\n",
       "<table border=\"1\" class=\"dataframe\">\n",
       "  <thead>\n",
       "    <tr style=\"text-align: right;\">\n",
       "      <th></th>\n",
       "      <th>longitude</th>\n",
       "      <th>latitude</th>\n",
       "      <th>housing_median_age</th>\n",
       "      <th>total_rooms</th>\n",
       "      <th>total_bedrooms</th>\n",
       "      <th>population</th>\n",
       "      <th>households</th>\n",
       "      <th>median_income</th>\n",
       "      <th>median_house_value</th>\n",
       "      <th>ocean_proximity</th>\n",
       "    </tr>\n",
       "  </thead>\n",
       "  <tbody>\n",
       "    <tr>\n",
       "      <th>5377</th>\n",
       "      <td>-118.39</td>\n",
       "      <td>34.04</td>\n",
       "      <td>49.0</td>\n",
       "      <td>1230.0</td>\n",
       "      <td>279.0</td>\n",
       "      <td>669.0</td>\n",
       "      <td>269.0</td>\n",
       "      <td>3.9038</td>\n",
       "      <td>308300.0</td>\n",
       "      <td>&lt;1H OCEAN</td>\n",
       "    </tr>\n",
       "    <tr>\n",
       "      <th>9910</th>\n",
       "      <td>-122.29</td>\n",
       "      <td>38.31</td>\n",
       "      <td>25.0</td>\n",
       "      <td>4927.0</td>\n",
       "      <td>1005.0</td>\n",
       "      <td>2756.0</td>\n",
       "      <td>998.0</td>\n",
       "      <td>2.7325</td>\n",
       "      <td>162900.0</td>\n",
       "      <td>NEAR BAY</td>\n",
       "    </tr>\n",
       "    <tr>\n",
       "      <th>4246</th>\n",
       "      <td>-118.33</td>\n",
       "      <td>34.12</td>\n",
       "      <td>23.0</td>\n",
       "      <td>1894.0</td>\n",
       "      <td>416.0</td>\n",
       "      <td>769.0</td>\n",
       "      <td>392.0</td>\n",
       "      <td>6.0352</td>\n",
       "      <td>500001.0</td>\n",
       "      <td>&lt;1H OCEAN</td>\n",
       "    </tr>\n",
       "    <tr>\n",
       "      <th>6219</th>\n",
       "      <td>-117.91</td>\n",
       "      <td>34.06</td>\n",
       "      <td>29.0</td>\n",
       "      <td>3250.0</td>\n",
       "      <td>521.0</td>\n",
       "      <td>1382.0</td>\n",
       "      <td>513.0</td>\n",
       "      <td>5.1120</td>\n",
       "      <td>218300.0</td>\n",
       "      <td>&lt;1H OCEAN</td>\n",
       "    </tr>\n",
       "    <tr>\n",
       "      <th>12162</th>\n",
       "      <td>-117.11</td>\n",
       "      <td>33.75</td>\n",
       "      <td>17.0</td>\n",
       "      <td>4174.0</td>\n",
       "      <td>851.0</td>\n",
       "      <td>1845.0</td>\n",
       "      <td>780.0</td>\n",
       "      <td>2.2618</td>\n",
       "      <td>96100.0</td>\n",
       "      <td>INLAND</td>\n",
       "    </tr>\n",
       "  </tbody>\n",
       "</table>\n",
       "</div>"
      ],
      "text/plain": [
       "       longitude  latitude  housing_median_age  total_rooms  total_bedrooms  \\\n",
       "5377     -118.39     34.04                49.0       1230.0           279.0   \n",
       "9910     -122.29     38.31                25.0       4927.0          1005.0   \n",
       "4246     -118.33     34.12                23.0       1894.0           416.0   \n",
       "6219     -117.91     34.06                29.0       3250.0           521.0   \n",
       "12162    -117.11     33.75                17.0       4174.0           851.0   \n",
       "\n",
       "       population  households  median_income  median_house_value  \\\n",
       "5377        669.0       269.0         3.9038            308300.0   \n",
       "9910       2756.0       998.0         2.7325            162900.0   \n",
       "4246        769.0       392.0         6.0352            500001.0   \n",
       "6219       1382.0       513.0         5.1120            218300.0   \n",
       "12162      1845.0       780.0         2.2618             96100.0   \n",
       "\n",
       "      ocean_proximity  \n",
       "5377        <1H OCEAN  \n",
       "9910         NEAR BAY  \n",
       "4246        <1H OCEAN  \n",
       "6219        <1H OCEAN  \n",
       "12162          INLAND  "
      ]
     },
     "execution_count": 2,
     "metadata": {},
     "output_type": "execute_result"
    }
   ],
   "source": [
    "housing_data=pd.read_csv('datasets/housing.csv')\n",
    "housing_data.sample(5)"
   ]
  },
  {
   "cell_type": "markdown",
   "metadata": {},
   "source": [
    "# Data Prep\n"
   ]
  },
  {
   "cell_type": "code",
   "execution_count": 3,
   "metadata": {},
   "outputs": [],
   "source": [
    "housing_data=housing_data.dropna()"
   ]
  },
  {
   "cell_type": "code",
   "execution_count": 4,
   "metadata": {},
   "outputs": [
    {
     "data": {
      "text/plain": [
       "(20433, 10)"
      ]
     },
     "execution_count": 4,
     "metadata": {},
     "output_type": "execute_result"
    }
   ],
   "source": [
    "housing_data.shape"
   ]
  },
  {
   "cell_type": "code",
   "execution_count": 5,
   "metadata": {},
   "outputs": [
    {
     "data": {
      "text/plain": [
       "longitude             958\n",
       "latitude              958\n",
       "housing_median_age    958\n",
       "total_rooms           958\n",
       "total_bedrooms        958\n",
       "population            958\n",
       "households            958\n",
       "median_income         958\n",
       "median_house_value    958\n",
       "ocean_proximity       958\n",
       "dtype: int64"
      ]
     },
     "execution_count": 5,
     "metadata": {},
     "output_type": "execute_result"
    }
   ],
   "source": [
    "housing_data.loc[housing_data['median_house_value'] == 500001].count()"
   ]
  },
  {
   "cell_type": "code",
   "execution_count": 6,
   "metadata": {},
   "outputs": [],
   "source": [
    "housing_data=housing_data.drop(housing_data.loc[housing_data['median_house_value'] == 500001].index)"
   ]
  },
  {
   "cell_type": "code",
   "execution_count": 7,
   "metadata": {},
   "outputs": [
    {
     "data": {
      "text/plain": [
       "array(['NEAR BAY', '<1H OCEAN', 'INLAND', 'NEAR OCEAN', 'ISLAND'],\n",
       "      dtype=object)"
      ]
     },
     "execution_count": 7,
     "metadata": {},
     "output_type": "execute_result"
    }
   ],
   "source": [
    "housing_data['ocean_proximity'].unique()"
   ]
  },
  {
   "cell_type": "code",
   "execution_count": 8,
   "metadata": {},
   "outputs": [
    {
     "data": {
      "text/plain": [
       "Index(['longitude', 'latitude', 'housing_median_age', 'total_rooms',\n",
       "       'total_bedrooms', 'population', 'households', 'median_income',\n",
       "       'median_house_value', 'ocean_proximity'],\n",
       "      dtype='object')"
      ]
     },
     "execution_count": 8,
     "metadata": {},
     "output_type": "execute_result"
    }
   ],
   "source": [
    "housing_data.columns"
   ]
  },
  {
   "cell_type": "code",
   "execution_count": 9,
   "metadata": {},
   "outputs": [],
   "source": [
    "housing_data=pd.get_dummies(housing_data)"
   ]
  },
  {
   "cell_type": "code",
   "execution_count": 10,
   "metadata": {},
   "outputs": [
    {
     "data": {
      "text/html": [
       "<div>\n",
       "<style scoped>\n",
       "    .dataframe tbody tr th:only-of-type {\n",
       "        vertical-align: middle;\n",
       "    }\n",
       "\n",
       "    .dataframe tbody tr th {\n",
       "        vertical-align: top;\n",
       "    }\n",
       "\n",
       "    .dataframe thead th {\n",
       "        text-align: right;\n",
       "    }\n",
       "</style>\n",
       "<table border=\"1\" class=\"dataframe\">\n",
       "  <thead>\n",
       "    <tr style=\"text-align: right;\">\n",
       "      <th></th>\n",
       "      <th>longitude</th>\n",
       "      <th>latitude</th>\n",
       "      <th>housing_median_age</th>\n",
       "      <th>total_rooms</th>\n",
       "      <th>total_bedrooms</th>\n",
       "      <th>population</th>\n",
       "      <th>households</th>\n",
       "      <th>median_income</th>\n",
       "      <th>median_house_value</th>\n",
       "      <th>ocean_proximity_&lt;1H OCEAN</th>\n",
       "      <th>ocean_proximity_INLAND</th>\n",
       "      <th>ocean_proximity_ISLAND</th>\n",
       "      <th>ocean_proximity_NEAR BAY</th>\n",
       "      <th>ocean_proximity_NEAR OCEAN</th>\n",
       "    </tr>\n",
       "  </thead>\n",
       "  <tbody>\n",
       "    <tr>\n",
       "      <th>11207</th>\n",
       "      <td>-117.92</td>\n",
       "      <td>33.83</td>\n",
       "      <td>52.0</td>\n",
       "      <td>1514.0</td>\n",
       "      <td>301.0</td>\n",
       "      <td>855.0</td>\n",
       "      <td>293.0</td>\n",
       "      <td>3.6042</td>\n",
       "      <td>166400.0</td>\n",
       "      <td>1</td>\n",
       "      <td>0</td>\n",
       "      <td>0</td>\n",
       "      <td>0</td>\n",
       "      <td>0</td>\n",
       "    </tr>\n",
       "    <tr>\n",
       "      <th>18459</th>\n",
       "      <td>-121.80</td>\n",
       "      <td>37.27</td>\n",
       "      <td>10.0</td>\n",
       "      <td>3301.0</td>\n",
       "      <td>593.0</td>\n",
       "      <td>2190.0</td>\n",
       "      <td>575.0</td>\n",
       "      <td>6.2230</td>\n",
       "      <td>260700.0</td>\n",
       "      <td>1</td>\n",
       "      <td>0</td>\n",
       "      <td>0</td>\n",
       "      <td>0</td>\n",
       "      <td>0</td>\n",
       "    </tr>\n",
       "    <tr>\n",
       "      <th>1079</th>\n",
       "      <td>-121.82</td>\n",
       "      <td>39.73</td>\n",
       "      <td>44.0</td>\n",
       "      <td>2923.0</td>\n",
       "      <td>659.0</td>\n",
       "      <td>1371.0</td>\n",
       "      <td>626.0</td>\n",
       "      <td>2.2925</td>\n",
       "      <td>85800.0</td>\n",
       "      <td>0</td>\n",
       "      <td>1</td>\n",
       "      <td>0</td>\n",
       "      <td>0</td>\n",
       "      <td>0</td>\n",
       "    </tr>\n",
       "    <tr>\n",
       "      <th>17666</th>\n",
       "      <td>-121.87</td>\n",
       "      <td>37.32</td>\n",
       "      <td>36.0</td>\n",
       "      <td>1471.0</td>\n",
       "      <td>360.0</td>\n",
       "      <td>1182.0</td>\n",
       "      <td>326.0</td>\n",
       "      <td>2.7031</td>\n",
       "      <td>175800.0</td>\n",
       "      <td>1</td>\n",
       "      <td>0</td>\n",
       "      <td>0</td>\n",
       "      <td>0</td>\n",
       "      <td>0</td>\n",
       "    </tr>\n",
       "    <tr>\n",
       "      <th>15228</th>\n",
       "      <td>-117.20</td>\n",
       "      <td>33.07</td>\n",
       "      <td>5.0</td>\n",
       "      <td>10394.0</td>\n",
       "      <td>1617.0</td>\n",
       "      <td>4496.0</td>\n",
       "      <td>1553.0</td>\n",
       "      <td>5.9289</td>\n",
       "      <td>411300.0</td>\n",
       "      <td>0</td>\n",
       "      <td>0</td>\n",
       "      <td>0</td>\n",
       "      <td>0</td>\n",
       "      <td>1</td>\n",
       "    </tr>\n",
       "  </tbody>\n",
       "</table>\n",
       "</div>"
      ],
      "text/plain": [
       "       longitude  latitude  housing_median_age  total_rooms  total_bedrooms  \\\n",
       "11207    -117.92     33.83                52.0       1514.0           301.0   \n",
       "18459    -121.80     37.27                10.0       3301.0           593.0   \n",
       "1079     -121.82     39.73                44.0       2923.0           659.0   \n",
       "17666    -121.87     37.32                36.0       1471.0           360.0   \n",
       "15228    -117.20     33.07                 5.0      10394.0          1617.0   \n",
       "\n",
       "       population  households  median_income  median_house_value  \\\n",
       "11207       855.0       293.0         3.6042            166400.0   \n",
       "18459      2190.0       575.0         6.2230            260700.0   \n",
       "1079       1371.0       626.0         2.2925             85800.0   \n",
       "17666      1182.0       326.0         2.7031            175800.0   \n",
       "15228      4496.0      1553.0         5.9289            411300.0   \n",
       "\n",
       "       ocean_proximity_<1H OCEAN  ocean_proximity_INLAND  \\\n",
       "11207                          1                       0   \n",
       "18459                          1                       0   \n",
       "1079                           0                       1   \n",
       "17666                          1                       0   \n",
       "15228                          0                       0   \n",
       "\n",
       "       ocean_proximity_ISLAND  ocean_proximity_NEAR BAY  \\\n",
       "11207                       0                         0   \n",
       "18459                       0                         0   \n",
       "1079                        0                         0   \n",
       "17666                       0                         0   \n",
       "15228                       0                         0   \n",
       "\n",
       "       ocean_proximity_NEAR OCEAN  \n",
       "11207                           0  \n",
       "18459                           0  \n",
       "1079                            0  \n",
       "17666                           0  \n",
       "15228                           1  "
      ]
     },
     "execution_count": 10,
     "metadata": {},
     "output_type": "execute_result"
    }
   ],
   "source": [
    "housing_data.sample(5)"
   ]
  },
  {
   "cell_type": "code",
   "execution_count": 11,
   "metadata": {},
   "outputs": [
    {
     "data": {
      "text/plain": [
       "173800.0"
      ]
     },
     "execution_count": 11,
     "metadata": {},
     "output_type": "execute_result"
    }
   ],
   "source": [
    "median = housing_data['median_house_value'].median()\n",
    "median"
   ]
  },
  {
   "cell_type": "code",
   "execution_count": 13,
   "metadata": {},
   "outputs": [
    {
     "data": {
      "text/html": [
       "<div>\n",
       "<style scoped>\n",
       "    .dataframe tbody tr th:only-of-type {\n",
       "        vertical-align: middle;\n",
       "    }\n",
       "\n",
       "    .dataframe tbody tr th {\n",
       "        vertical-align: top;\n",
       "    }\n",
       "\n",
       "    .dataframe thead th {\n",
       "        text-align: right;\n",
       "    }\n",
       "</style>\n",
       "<table border=\"1\" class=\"dataframe\">\n",
       "  <thead>\n",
       "    <tr style=\"text-align: right;\">\n",
       "      <th></th>\n",
       "      <th>longitude</th>\n",
       "      <th>latitude</th>\n",
       "      <th>housing_median_age</th>\n",
       "      <th>total_rooms</th>\n",
       "      <th>total_bedrooms</th>\n",
       "      <th>population</th>\n",
       "      <th>households</th>\n",
       "      <th>median_income</th>\n",
       "      <th>median_house_value</th>\n",
       "      <th>ocean_proximity_&lt;1H OCEAN</th>\n",
       "      <th>ocean_proximity_INLAND</th>\n",
       "      <th>ocean_proximity_ISLAND</th>\n",
       "      <th>ocean_proximity_NEAR BAY</th>\n",
       "      <th>ocean_proximity_NEAR OCEAN</th>\n",
       "      <th>above_median</th>\n",
       "    </tr>\n",
       "  </thead>\n",
       "  <tbody>\n",
       "    <tr>\n",
       "      <th>5808</th>\n",
       "      <td>-118.26</td>\n",
       "      <td>34.14</td>\n",
       "      <td>6.0</td>\n",
       "      <td>1727.0</td>\n",
       "      <td>506.0</td>\n",
       "      <td>1200.0</td>\n",
       "      <td>439.0</td>\n",
       "      <td>4.1083</td>\n",
       "      <td>210700.0</td>\n",
       "      <td>1</td>\n",
       "      <td>0</td>\n",
       "      <td>0</td>\n",
       "      <td>0</td>\n",
       "      <td>0</td>\n",
       "      <td>True</td>\n",
       "    </tr>\n",
       "    <tr>\n",
       "      <th>19062</th>\n",
       "      <td>-122.47</td>\n",
       "      <td>38.30</td>\n",
       "      <td>15.0</td>\n",
       "      <td>4885.0</td>\n",
       "      <td>988.0</td>\n",
       "      <td>2175.0</td>\n",
       "      <td>924.0</td>\n",
       "      <td>3.4031</td>\n",
       "      <td>209500.0</td>\n",
       "      <td>1</td>\n",
       "      <td>0</td>\n",
       "      <td>0</td>\n",
       "      <td>0</td>\n",
       "      <td>0</td>\n",
       "      <td>True</td>\n",
       "    </tr>\n",
       "    <tr>\n",
       "      <th>7156</th>\n",
       "      <td>-118.15</td>\n",
       "      <td>34.04</td>\n",
       "      <td>44.0</td>\n",
       "      <td>647.0</td>\n",
       "      <td>142.0</td>\n",
       "      <td>457.0</td>\n",
       "      <td>143.0</td>\n",
       "      <td>3.6875</td>\n",
       "      <td>162500.0</td>\n",
       "      <td>1</td>\n",
       "      <td>0</td>\n",
       "      <td>0</td>\n",
       "      <td>0</td>\n",
       "      <td>0</td>\n",
       "      <td>False</td>\n",
       "    </tr>\n",
       "    <tr>\n",
       "      <th>31</th>\n",
       "      <td>-122.28</td>\n",
       "      <td>37.84</td>\n",
       "      <td>52.0</td>\n",
       "      <td>2153.0</td>\n",
       "      <td>481.0</td>\n",
       "      <td>1168.0</td>\n",
       "      <td>441.0</td>\n",
       "      <td>1.9615</td>\n",
       "      <td>115200.0</td>\n",
       "      <td>0</td>\n",
       "      <td>0</td>\n",
       "      <td>0</td>\n",
       "      <td>1</td>\n",
       "      <td>0</td>\n",
       "      <td>False</td>\n",
       "    </tr>\n",
       "    <tr>\n",
       "      <th>18263</th>\n",
       "      <td>-122.09</td>\n",
       "      <td>37.37</td>\n",
       "      <td>34.0</td>\n",
       "      <td>2165.0</td>\n",
       "      <td>355.0</td>\n",
       "      <td>776.0</td>\n",
       "      <td>339.0</td>\n",
       "      <td>5.2971</td>\n",
       "      <td>442100.0</td>\n",
       "      <td>0</td>\n",
       "      <td>0</td>\n",
       "      <td>0</td>\n",
       "      <td>1</td>\n",
       "      <td>0</td>\n",
       "      <td>True</td>\n",
       "    </tr>\n",
       "  </tbody>\n",
       "</table>\n",
       "</div>"
      ],
      "text/plain": [
       "       longitude  latitude  housing_median_age  total_rooms  total_bedrooms  \\\n",
       "5808     -118.26     34.14                 6.0       1727.0           506.0   \n",
       "19062    -122.47     38.30                15.0       4885.0           988.0   \n",
       "7156     -118.15     34.04                44.0        647.0           142.0   \n",
       "31       -122.28     37.84                52.0       2153.0           481.0   \n",
       "18263    -122.09     37.37                34.0       2165.0           355.0   \n",
       "\n",
       "       population  households  median_income  median_house_value  \\\n",
       "5808       1200.0       439.0         4.1083            210700.0   \n",
       "19062      2175.0       924.0         3.4031            209500.0   \n",
       "7156        457.0       143.0         3.6875            162500.0   \n",
       "31         1168.0       441.0         1.9615            115200.0   \n",
       "18263       776.0       339.0         5.2971            442100.0   \n",
       "\n",
       "       ocean_proximity_<1H OCEAN  ocean_proximity_INLAND  \\\n",
       "5808                           1                       0   \n",
       "19062                          1                       0   \n",
       "7156                           1                       0   \n",
       "31                             0                       0   \n",
       "18263                          0                       0   \n",
       "\n",
       "       ocean_proximity_ISLAND  ocean_proximity_NEAR BAY  \\\n",
       "5808                        0                         0   \n",
       "19062                       0                         0   \n",
       "7156                        0                         0   \n",
       "31                          0                         1   \n",
       "18263                       0                         1   \n",
       "\n",
       "       ocean_proximity_NEAR OCEAN  above_median  \n",
       "5808                            0          True  \n",
       "19062                           0          True  \n",
       "7156                            0         False  \n",
       "31                              0         False  \n",
       "18263                           0          True  "
      ]
     },
     "execution_count": 13,
     "metadata": {},
     "output_type": "execute_result"
    }
   ],
   "source": [
    "housing_data['above_median'] = (housing_data['median_house_value'] - median) > 0\n",
    "housing_data.sample(5)"
   ]
  },
  {
   "cell_type": "code",
   "execution_count": 16,
   "metadata": {},
   "outputs": [
    {
     "data": {
      "text/plain": [
       "Index(['longitude', 'latitude', 'housing_median_age', 'total_rooms',\n",
       "       'total_bedrooms', 'population', 'households', 'median_income',\n",
       "       'ocean_proximity_<1H OCEAN', 'ocean_proximity_INLAND',\n",
       "       'ocean_proximity_ISLAND', 'ocean_proximity_NEAR BAY',\n",
       "       'ocean_proximity_NEAR OCEAN'],\n",
       "      dtype='object')"
      ]
     },
     "execution_count": 16,
     "metadata": {},
     "output_type": "execute_result"
    }
   ],
   "source": [
    "X=housing_data.drop(['median_house_value','above_median'], axis=1)\n",
    "Y=housing_data['above_median']\n",
    "X.columns"
   ]
  },
  {
   "cell_type": "code",
   "execution_count": 19,
   "metadata": {},
   "outputs": [
    {
     "data": {
      "text/plain": [
       "((15580, 13), (3895, 13))"
      ]
     },
     "execution_count": 19,
     "metadata": {},
     "output_type": "execute_result"
    }
   ],
   "source": [
    "from sklearn.model_selection import train_test_split\n",
    "x_train, x_test, y_train, y_test = train_test_split(X, Y, test_size=0.2)\n",
    "x_train.shape, x_test.shape"
   ]
  },
  {
   "cell_type": "markdown",
   "metadata": {},
   "source": [
    "# Model Training"
   ]
  },
  {
   "cell_type": "code",
   "execution_count": 20,
   "metadata": {},
   "outputs": [],
   "source": [
    "from sklearn.linear_model import LogisticRegression\n",
    "logistic_model = LogisticRegression(solver='liblinear').fit(x_train, y_train)"
   ]
  },
  {
   "cell_type": "code",
   "execution_count": 21,
   "metadata": {},
   "outputs": [
    {
     "name": "stdout",
     "output_type": "stream",
     "text": [
      "Training Score:  0.8223363286264441\n"
     ]
    }
   ],
   "source": [
    "print(\"Training Score: \", logistic_model.score(x_train, y_train))"
   ]
  },
  {
   "cell_type": "code",
   "execution_count": 22,
   "metadata": {},
   "outputs": [],
   "source": [
    "y_pred = logistic_model.predict(x_test)"
   ]
  },
  {
   "cell_type": "code",
   "execution_count": 23,
   "metadata": {},
   "outputs": [
    {
     "data": {
      "text/html": [
       "<div>\n",
       "<style scoped>\n",
       "    .dataframe tbody tr th:only-of-type {\n",
       "        vertical-align: middle;\n",
       "    }\n",
       "\n",
       "    .dataframe tbody tr th {\n",
       "        vertical-align: top;\n",
       "    }\n",
       "\n",
       "    .dataframe thead th {\n",
       "        text-align: right;\n",
       "    }\n",
       "</style>\n",
       "<table border=\"1\" class=\"dataframe\">\n",
       "  <thead>\n",
       "    <tr style=\"text-align: right;\">\n",
       "      <th></th>\n",
       "      <th>predicted</th>\n",
       "      <th>actual</th>\n",
       "    </tr>\n",
       "  </thead>\n",
       "  <tbody>\n",
       "    <tr>\n",
       "      <th>2866</th>\n",
       "      <td>False</td>\n",
       "      <td>False</td>\n",
       "    </tr>\n",
       "    <tr>\n",
       "      <th>19423</th>\n",
       "      <td>False</td>\n",
       "      <td>True</td>\n",
       "    </tr>\n",
       "    <tr>\n",
       "      <th>18741</th>\n",
       "      <td>False</td>\n",
       "      <td>False</td>\n",
       "    </tr>\n",
       "    <tr>\n",
       "      <th>18664</th>\n",
       "      <td>True</td>\n",
       "      <td>True</td>\n",
       "    </tr>\n",
       "    <tr>\n",
       "      <th>20349</th>\n",
       "      <td>True</td>\n",
       "      <td>False</td>\n",
       "    </tr>\n",
       "    <tr>\n",
       "      <th>2832</th>\n",
       "      <td>False</td>\n",
       "      <td>False</td>\n",
       "    </tr>\n",
       "    <tr>\n",
       "      <th>6578</th>\n",
       "      <td>True</td>\n",
       "      <td>True</td>\n",
       "    </tr>\n",
       "    <tr>\n",
       "      <th>1633</th>\n",
       "      <td>False</td>\n",
       "      <td>True</td>\n",
       "    </tr>\n",
       "    <tr>\n",
       "      <th>11794</th>\n",
       "      <td>False</td>\n",
       "      <td>False</td>\n",
       "    </tr>\n",
       "    <tr>\n",
       "      <th>13421</th>\n",
       "      <td>False</td>\n",
       "      <td>False</td>\n",
       "    </tr>\n",
       "  </tbody>\n",
       "</table>\n",
       "</div>"
      ],
      "text/plain": [
       "       predicted  actual\n",
       "2866       False   False\n",
       "19423      False    True\n",
       "18741      False   False\n",
       "18664       True    True\n",
       "20349       True   False\n",
       "2832       False   False\n",
       "6578        True    True\n",
       "1633       False    True\n",
       "11794      False   False\n",
       "13421      False   False"
      ]
     },
     "execution_count": 23,
     "metadata": {},
     "output_type": "execute_result"
    }
   ],
   "source": [
    "df_pred_actual = pd.DataFrame({'predicted':y_pred, 'actual':y_test})\n",
    "df_pred_actual.head(10)"
   ]
  },
  {
   "cell_type": "code",
   "execution_count": 25,
   "metadata": {},
   "outputs": [
    {
     "name": "stdout",
     "output_type": "stream",
     "text": [
      "Testing score:  0.8120667522464698\n"
     ]
    }
   ],
   "source": [
    "from sklearn.metrics import accuracy_score\n",
    "print('Testing score: ', accuracy_score(y_test, y_pred))"
   ]
  },
  {
   "cell_type": "code",
   "execution_count": null,
   "metadata": {},
   "outputs": [],
   "source": []
  }
 ],
 "metadata": {
  "kernelspec": {
   "display_name": "Python 3",
   "language": "python",
   "name": "python3"
  },
  "language_info": {
   "codemirror_mode": {
    "name": "ipython",
    "version": 3
   },
   "file_extension": ".py",
   "mimetype": "text/x-python",
   "name": "python",
   "nbconvert_exporter": "python",
   "pygments_lexer": "ipython3",
   "version": "3.7.3"
  }
 },
 "nbformat": 4,
 "nbformat_minor": 2
}
